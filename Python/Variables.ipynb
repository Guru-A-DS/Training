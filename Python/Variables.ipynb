{
 "cells": [
  {
   "cell_type": "markdown",
   "metadata": {},
   "source": [
    "# Variables "
   ]
  },
  {
   "cell_type": "markdown",
   "metadata": {},
   "source": [
    "* Variable is a box containing something\n",
    "* Can contain letters, underscores, numbers\n",
    "* No starting with number\n",
    "* No special characters\n",
    "* No length specified for name of variable\n",
    "* String, float, integer\n",
    "* No difference between single/double quotes \n",
    "* Printing will bring all things to console\n",
    "* print()- some action is performed"
   ]
  },
  {
   "cell_type": "code",
   "execution_count": 1,
   "metadata": {},
   "outputs": [],
   "source": [
    "a = 5\n",
    "b = 10\n",
    "my_variable = 56\n",
    "variable_name1 = 100"
   ]
  },
  {
   "cell_type": "code",
   "execution_count": 2,
   "metadata": {},
   "outputs": [
    {
     "name": "stdout",
     "output_type": "stream",
     "text": [
      "hello\n",
      "56\n"
     ]
    }
   ],
   "source": [
    "string_variable = \"hello\"\n",
    "single_quotes = 'strings can have single quotes'\n",
    "\n",
    "print(string_variable)\n",
    "print(my_variable)\n",
    "\n",
    "# print is a method with one parameter—what we want to print"
   ]
  },
  {
   "cell_type": "markdown",
   "metadata": {},
   "source": [
    "# Functions/Methods"
   ]
  },
  {
   "cell_type": "markdown",
   "metadata": {},
   "source": [
    "* Indentation is necessary\n",
    "* 'def' keyword"
   ]
  },
  {
   "cell_type": "code",
   "execution_count": 3,
   "metadata": {},
   "outputs": [
    {
     "name": "stdout",
     "output_type": "stream",
     "text": [
      "hello\n"
     ]
    }
   ],
   "source": [
    "# Function 1\n",
    "\n",
    "def my_print_method(my_parameter):                      # function's definition\n",
    "    print(my_parameter)\n",
    "\n",
    "my_print_method(string_variable)                        # calling of function"
   ]
  },
  {
   "cell_type": "code",
   "execution_count": 5,
   "metadata": {},
   "outputs": [
    {
     "name": "stdout",
     "output_type": "stream",
     "text": [
      "50\n",
      "50\n",
      "bbbbb\n"
     ]
    }
   ],
   "source": [
    "# Function 2\n",
    "\n",
    "def my_multiplication_method(number_1, number_2):\n",
    "    return number_1 * number_2                      # returning a value\n",
    "\n",
    "result = my_multiplication_method(a, b)\n",
    "print(result)\n",
    "\n",
    "print(my_multiplication_method(10, 5))\n",
    "\n",
    "my_print_method(my_multiplication_method('b', 5))  \n",
    "# function within function "
   ]
  },
  {
   "cell_type": "code",
   "execution_count": null,
   "metadata": {},
   "outputs": [],
   "source": []
  }
 ],
 "metadata": {
  "kernelspec": {
   "display_name": "Python 3",
   "language": "python",
   "name": "python3"
  },
  "language_info": {
   "codemirror_mode": {
    "name": "ipython",
    "version": 3
   },
   "file_extension": ".py",
   "mimetype": "text/x-python",
   "name": "python",
   "nbconvert_exporter": "python",
   "pygments_lexer": "ipython3",
   "version": "3.6.5"
  }
 },
 "nbformat": 4,
 "nbformat_minor": 2
}
