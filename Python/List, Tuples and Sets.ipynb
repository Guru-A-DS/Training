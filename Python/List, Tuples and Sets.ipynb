{
 "cells": [
  {
   "cell_type": "markdown",
   "metadata": {},
   "source": [
    "# Lists"
   ]
  },
  {
   "cell_type": "markdown",
   "metadata": {},
   "source": [
    "* Contains number of values in one variable. \n",
    "* Enclosed with []\n",
    "* Elements starts their indexing from 0.\n",
    "* Elements counts till (N-1), where N is total number of elements\n",
    "* Lists are mutables, i.e. can be changed."
   ]
  },
  {
   "cell_type": "markdown",
   "metadata": {},
   "source": [
    "> Why lists-> Students having many grades. Provides flexibility"
   ]
  },
  {
   "cell_type": "code",
   "execution_count": 8,
   "metadata": {},
   "outputs": [
    {
     "name": "stdout",
     "output_type": "stream",
     "text": [
      "1\n",
      "5\n"
     ]
    }
   ],
   "source": [
    "var1= [1,2,3,4,5]   # Integer List\n",
    "print(var1[0])\n",
    "print(var1[4])"
   ]
  },
  {
   "cell_type": "code",
   "execution_count": 9,
   "metadata": {},
   "outputs": [
    {
     "name": "stdout",
     "output_type": "stream",
     "text": [
      "5\n",
      "15\n",
      "[1, 2, 3, 4, 5, 10]\n"
     ]
    }
   ],
   "source": [
    "print(len(var1))\n",
    "print(sum(var1))\n",
    "var1.append(10)  # addition of last element\n",
    "print(var1)"
   ]
  },
  {
   "cell_type": "code",
   "execution_count": 10,
   "metadata": {},
   "outputs": [
    {
     "name": "stdout",
     "output_type": "stream",
     "text": [
      "['hello', 'hi', 'nice to meet you', 'bye!']\n"
     ]
    }
   ],
   "source": [
    "var2 = ['hello', 'hi', 'nice to meet you']    # String List\n",
    "var2.append('bye!')\n",
    "print(var2)"
   ]
  },
  {
   "cell_type": "markdown",
   "metadata": {},
   "source": [
    "# Tuples"
   ]
  },
  {
   "cell_type": "markdown",
   "metadata": {},
   "source": [
    "* Tuples are immutables.\n",
    "* Enclosed with ()"
   ]
  },
  {
   "cell_type": "code",
   "execution_count": 13,
   "metadata": {},
   "outputs": [
    {
     "ename": "TypeError",
     "evalue": "'tuple' object does not support item assignment",
     "output_type": "error",
     "traceback": [
      "\u001b[1;31m---------------------------------------------------------------------------\u001b[0m",
      "\u001b[1;31mTypeError\u001b[0m                                 Traceback (most recent call last)",
      "\u001b[1;32m<ipython-input-13-8998379bbe47>\u001b[0m in \u001b[0;36m<module>\u001b[1;34m()\u001b[0m\n\u001b[0;32m      1\u001b[0m \u001b[0mtvar1\u001b[0m \u001b[1;33m=\u001b[0m \u001b[1;33m(\u001b[0m\u001b[1;34m'hello'\u001b[0m\u001b[1;33m,\u001b[0m \u001b[1;34m'hi'\u001b[0m\u001b[1;33m,\u001b[0m \u001b[1;34m'nice to meet you'\u001b[0m\u001b[1;33m)\u001b[0m\u001b[1;33m\u001b[0m\u001b[0m\n\u001b[1;32m----> 2\u001b[1;33m \u001b[0mtvar1\u001b[0m\u001b[1;33m[\u001b[0m\u001b[1;36m0\u001b[0m\u001b[1;33m]\u001b[0m\u001b[1;33m=\u001b[0m\u001b[1;33m(\u001b[0m\u001b[1;34m'hi'\u001b[0m\u001b[1;33m)\u001b[0m\u001b[1;33m\u001b[0m\u001b[0m\n\u001b[0m",
      "\u001b[1;31mTypeError\u001b[0m: 'tuple' object does not support item assignment"
     ]
    }
   ],
   "source": [
    "tvar1 = ('hello', 'hi', 'nice to meet you')\n",
    "tvar1[0]=('hi')                             \n",
    "# error, cannot change the tuple"
   ]
  },
  {
   "cell_type": "code",
   "execution_count": 20,
   "metadata": {},
   "outputs": [
    {
     "name": "stdout",
     "output_type": "stream",
     "text": [
      "('hello', 'hi', 'nice to meet you', 'hi', 'hi')\n"
     ]
    }
   ],
   "source": [
    "tvar1=tvar1+('hi',)             # correct way\n",
    "print(tvar1)"
   ]
  },
  {
   "cell_type": "code",
   "execution_count": 4,
   "metadata": {},
   "outputs": [
    {
     "name": "stdout",
     "output_type": "stream",
     "text": [
      "{'hello', 'nice to meet you', 'hi'}\n",
      "{'hello', 'nice to meet you', 'hi'}\n"
     ]
    }
   ],
   "source": [
    "# set is collection of unique and ordered items.\n",
    "my_set_variable = {'hello', 'hi', 'nice to meet you'}\n",
    "\n",
    "print(my_set_variable)\n",
    "\n",
    "my_short_tuple_variable = (\"hello\",)\n",
    "another_short_tuple_variable = \"hello\",\n",
    "# if only element in tuple, then comma should be there!!!\n",
    "\n",
    "# print(my_set_variable[0]) \n",
    "# This won't work, because there is no order. Which one is element 0?\n",
    "\n",
    "my_set_variable.add('hello')\n",
    "print(my_set_variable)\n",
    "# adding another time will not make any difference!"
   ]
  },
  {
   "cell_type": "code",
   "execution_count": 5,
   "metadata": {},
   "outputs": [
    {
     "name": "stdout",
     "output_type": "stream",
     "text": [
      "{1, 3, 5}\n",
      "{1, 2, 3}\n",
      "{1, 3}\n"
     ]
    }
   ],
   "source": [
    "###### Set Operations\n",
    "\n",
    "set_one = {1, 2, 3, 4, 5}\n",
    "set_two = {1, 3, 5, 7, 9, 11}\n",
    "\n",
    "print(set_one.intersection(set_two))  # {1, 3, 5}\n",
    "\n",
    "print({1, 2}.union({2, 3}))  # {1, 2, 3}\n",
    "\n",
    "print({1, 2, 3, 4}.difference({2, 4}))  # {1, 3}"
   ]
  },
  {
   "cell_type": "code",
   "execution_count": null,
   "metadata": {},
   "outputs": [],
   "source": []
  }
 ],
 "metadata": {
  "kernelspec": {
   "display_name": "Python 3",
   "language": "python",
   "name": "python3"
  },
  "language_info": {
   "codemirror_mode": {
    "name": "ipython",
    "version": 3
   },
   "file_extension": ".py",
   "mimetype": "text/x-python",
   "name": "python",
   "nbconvert_exporter": "python",
   "pygments_lexer": "ipython3",
   "version": "3.6.5"
  }
 },
 "nbformat": 4,
 "nbformat_minor": 2
}
